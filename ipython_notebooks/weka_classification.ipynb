{
 "cells": [
  {
   "cell_type": "code",
   "execution_count": 57,
   "metadata": {
    "collapsed": true
   },
   "outputs": [],
   "source": [
    "import numpy as np\n",
    "import pandas as pd\n",
    "import pymorphy2\n",
    "import os"
   ]
  },
  {
   "cell_type": "code",
   "execution_count": 58,
   "metadata": {
    "collapsed": false
   },
   "outputs": [],
   "source": [
    "import re\n",
    "import codecs\n",
    "import string\n",
    "import math\n",
    "from nltk.tokenize import TreebankWordTokenizer"
   ]
  },
  {
   "cell_type": "code",
   "execution_count": 59,
   "metadata": {
    "collapsed": false
   },
   "outputs": [],
   "source": [
    "morph = pymorphy2.MorphAnalyzer()\n",
    "tokenizer = TreebankWordTokenizer()\n",
    "\n",
    "RUS_LETTERS = u'абвгдеёжзийклмнопрстуфхцчшщъыьэюя'\n",
    "ALL_LETTERS_SET = set(list(RUS_LETTERS))  # Может удалять английские символы? #\n",
    "\n",
    "\n",
    "def text_to_words(text_text):\n",
    "    \"\"\"\n",
    "    Нормализация текста, преобразование текста твита в склеенные пробелом леммы.\n",
    "    \"\"\"\n",
    "    # 1. Все буквы в нижний регистр\n",
    "    text_text = text_text.lower()\n",
    "\n",
    "#    # 2. Удаление всех небукв\n",
    "#    letters_only = ''\n",
    "#    for _c in text_text:\n",
    "#        if _c in ALL_LETTERS_SET:\n",
    "#            letters_only += _c\n",
    "#        else:\n",
    "#            letters_only += ' '\n",
    "\n",
    "    letters_only = text_text\n",
    "\n",
    "    # 3. Заменяем множественные пробелы\n",
    "    while '  ' in letters_only:\n",
    "        letters_only = letters_only.replace('  ', ' ')\n",
    "\n",
    "    # 4. Токенизация\n",
    "    word_list = tokenizer.tokenize(letters_only)\n",
    "    \n",
    "    return word_list"
   ]
  },
  {
   "cell_type": "code",
   "execution_count": 60,
   "metadata": {
    "collapsed": true
   },
   "outputs": [],
   "source": [
    "def tokenize_and_extract(text, position):\n",
    "    return text_to_words(text)[position]"
   ]
  },
  {
   "cell_type": "code",
   "execution_count": 61,
   "metadata": {
    "collapsed": true
   },
   "outputs": [],
   "source": [
    "def analyze(token):\n",
    "    p = morph.parse(token)[0]\n",
    "    pos = p.tag.POS\n",
    "    nf = p.normal_form\n",
    "    if 'PNCT' in p.tag:\n",
    "        pos = 'PNCT'\n",
    "    return pos, nf"
   ]
  },
  {
   "cell_type": "code",
   "execution_count": 62,
   "metadata": {
    "collapsed": true
   },
   "outputs": [],
   "source": [
    "def return_side_index(side):\n",
    "    '''Возвращает -1, если это левый контекст, и 0, если правый.\n",
    "    Это число потом используется как индекс, чтобы взять\n",
    "    последнее слово левого или первое слово правого контекста'''\n",
    "    if side == 'LT':\n",
    "        return -1\n",
    "    elif side == 'RT':\n",
    "        return 0"
   ]
  },
  {
   "cell_type": "code",
   "execution_count": 63,
   "metadata": {
    "collapsed": true
   },
   "outputs": [],
   "source": [
    "def fill_data_with_parsed_tokens(data, side, internalData):\n",
    "    sideIndex = return_side_index(side)\n",
    "    for i in data.index:\n",
    "        text = internalData.loc[i,side+'_con'].lower()\n",
    "        try:\n",
    "            token = tokenize_and_extract(text, sideIndex)\n",
    "            pos, nf = analyze(token)\n",
    "        except (IndexError):\n",
    "            pos, nf = None, None\n",
    "        data.loc[i,[side+'_normal_form', side+'_pos']] = nf, pos"
   ]
  },
  {
   "cell_type": "code",
   "execution_count": 64,
   "metadata": {
    "collapsed": true
   },
   "outputs": [],
   "source": [
    "def data_None_to_empty(data):\n",
    "    data.fillna(value='empty', inplace=True)   "
   ]
  },
  {
   "cell_type": "code",
   "execution_count": 65,
   "metadata": {
    "collapsed": true
   },
   "outputs": [],
   "source": [
    "def return_internal_data_frame(df):\n",
    "    internalData = pd.DataFrame(index=range(len(df)), columns=['LT_con', 'Center', 'RT_con'])\n",
    "    internalData.LT_con = df.Left_context\n",
    "    internalData.Center = df.Center\n",
    "    internalData.RT_con = df.Concated\n",
    "    return internalData"
   ]
  },
  {
   "cell_type": "code",
   "execution_count": 66,
   "metadata": {
    "collapsed": true
   },
   "outputs": [],
   "source": [
    "def process(df):\n",
    "    df['Concated'] = df.Punct.str.cat(df.Right_context)\n",
    "    internalData = return_internal_data_frame(df)\n",
    "    data = pd.DataFrame(index=range(len(df)),\n",
    "                        columns=['LT_normal_form', 'LT_pos',\n",
    "                                 'RT_normal_form', 'RT_pos'])\n",
    "    fill_data_with_parsed_tokens(data, 'LT', internalData)\n",
    "    fill_data_with_parsed_tokens(data, 'RT', internalData)\n",
    "    data_None_to_empty(data)\n",
    "    return data"
   ]
  },
  {
   "cell_type": "code",
   "execution_count": 67,
   "metadata": {
    "collapsed": false
   },
   "outputs": [
    {
     "name": "stderr",
     "output_type": "stream",
     "text": [
      "C:\\Users\\Evgeny\\Anaconda3\\lib\\site-packages\\ipykernel\\__main__.py:2: SettingWithCopyWarning: \n",
      "A value is trying to be set on a copy of a slice from a DataFrame.\n",
      "Try using .loc[row_indexer,col_indexer] = value instead\n",
      "\n",
      "See the caveats in the documentation: http://pandas.pydata.org/pandas-docs/stable/indexing.html#indexing-view-versus-copy\n",
      "  from ipykernel import kernelapp as app\n"
     ]
    },
    {
     "data": {
      "text/plain": [
       "1000"
      ]
     },
     "execution_count": 67,
     "metadata": {},
     "output_type": "execute_result"
    }
   ],
   "source": [
    "dataNE = None\n",
    "for fname in os.listdir('.\\\\ruscorpora\\\\ne\\\\csv'):\n",
    "    df = pd.read_csv(os.path.join('.\\\\ruscorpora\\\\ne\\\\csv', fname),\n",
    "                    sep='\\t')\n",
    "    if dataNE is None:\n",
    "        dataNE = process(df.loc[:99,:])\n",
    "    else:\n",
    "        dataNE = dataNE.append(process(df.loc[:99,:]), ignore_index=True)\n",
    "len(dataNE)\n",
    "    "
   ]
  },
  {
   "cell_type": "code",
   "execution_count": 69,
   "metadata": {
    "collapsed": false
   },
   "outputs": [
    {
     "name": "stderr",
     "output_type": "stream",
     "text": [
      "C:\\Users\\Evgeny\\Anaconda3\\lib\\site-packages\\ipykernel\\__main__.py:2: SettingWithCopyWarning: \n",
      "A value is trying to be set on a copy of a slice from a DataFrame.\n",
      "Try using .loc[row_indexer,col_indexer] = value instead\n",
      "\n",
      "See the caveats in the documentation: http://pandas.pydata.org/pandas-docs/stable/indexing.html#indexing-view-versus-copy\n",
      "  from ipykernel import kernelapp as app\n"
     ]
    },
    {
     "data": {
      "text/plain": [
       "1000"
      ]
     },
     "execution_count": 69,
     "metadata": {},
     "output_type": "execute_result"
    }
   ],
   "source": [
    "dataE = None\n",
    "for fname in os.listdir('.\\\\ruscorpora\\\\ne\\\\csv'):\n",
    "    df = pd.read_csv(os.path.join('.\\\\ruscorpora\\\\ne\\\\csv', fname),\n",
    "                    sep='\\t')\n",
    "    if dataE is None:\n",
    "        dataE = process(df.loc[:99,:])\n",
    "    else:\n",
    "        dataE = dataE.append(process(df.loc[:99,:]), ignore_index=True)\n",
    "len(dataE)"
   ]
  },
  {
   "cell_type": "code",
   "execution_count": 70,
   "metadata": {
    "collapsed": false
   },
   "outputs": [],
   "source": [
    "dataNE['class'] = 'Not_eval'\n",
    "dataE['class'] = 'Eval'\n",
    "frames = [dataNE, dataE]\n",
    "result = pd.concat(frames)"
   ]
  },
  {
   "cell_type": "code",
   "execution_count": 71,
   "metadata": {
    "collapsed": false
   },
   "outputs": [],
   "source": [
    "result.to_csv('result.csv', sep='\\t', index=False)"
   ]
  }
 ],
 "metadata": {
  "kernelspec": {
   "display_name": "Python [conda root]",
   "language": "python",
   "name": "conda-root-py"
  },
  "language_info": {
   "codemirror_mode": {
    "name": "ipython",
    "version": 3
   },
   "file_extension": ".py",
   "mimetype": "text/x-python",
   "name": "python",
   "nbconvert_exporter": "python",
   "pygments_lexer": "ipython3",
   "version": "3.5.2"
  }
 },
 "nbformat": 4,
 "nbformat_minor": 2
}
