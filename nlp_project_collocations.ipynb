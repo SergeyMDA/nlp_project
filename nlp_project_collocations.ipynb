{
 "cells": [
  {
   "cell_type": "code",
   "execution_count": 53,
   "metadata": {
    "collapsed": false
   },
   "outputs": [],
   "source": [
    "import pandas as pd\n",
    "import string\n",
    "import pymorphy2\n",
    "from nltk.collocations import BigramAssocMeasures, TrigramAssocMeasures, BigramCollocationFinder\n",
    "from nltk.tokenize import word_tokenize\n",
    "from stop_words import get_stop_words\n",
    "import math\n",
    "from lxml import etree\n",
    "from nltk.corpus import stopwords\n",
    "import codecs\n",
    "import re"
   ]
  },
  {
   "cell_type": "markdown",
   "metadata": {},
   "source": [
    "Функция преобразует XML-файл корпуса отзывов в обычный текст"
   ]
  },
  {
   "cell_type": "code",
   "execution_count": 16,
   "metadata": {
    "collapsed": false
   },
   "outputs": [],
   "source": [
    "def parse_xml(filename):\n",
    "    with open(filename, encoding='utf-8') as f:\n",
    "        xml = f.read()\n",
    "\n",
    "    dict = {}\n",
    "    text = []\n",
    "    category = []\n",
    "    sentiment = []\n",
    "    term = []\n",
    "\n",
    "    root = etree.fromstring(xml)\n",
    "    for child in root:\n",
    "        for aspect in child[3]:\n",
    "            if aspect.attrib['type'] == 'implicit':\n",
    "                text.append(child[2].text)\n",
    "                category.append(aspect.attrib['category'])\n",
    "                sentiment.append(aspect.attrib['sentiment'])\n",
    "                term.append(aspect.attrib['term'])\n",
    "\n",
    "    dict['text'] = text\n",
    "    dict['category'] = category\n",
    "    dict['sentiment'] = sentiment\n",
    "    dict['term'] = term\n",
    "\n",
    "    # df = pd.DataFrame(dict)\n",
    "    # print (df)\n",
    "    return set(text)\n"
   ]
  },
  {
   "cell_type": "markdown",
   "metadata": {},
   "source": [
    "В `all_text` будут хранится все отзывы о ресторанах в виде обычного текста"
   ]
  },
  {
   "cell_type": "code",
   "execution_count": 17,
   "metadata": {
    "collapsed": false
   },
   "outputs": [],
   "source": [
    "text_train = parse_xml('SentiRuEval_rest_markup_train.xml')\n",
    "text_test = parse_xml('SentiRuEval_rest_markup_test.xml')\n",
    "\n",
    "all_text = ''\n",
    "for text in text_train:\n",
    "    all_text += text + ' '\n",
    "\n",
    "for text in text_test:\n",
    "    all_text += text + ' ' "
   ]
  },
  {
   "cell_type": "markdown",
   "metadata": {},
   "source": [
    "Записала все отзывы о ресторанах в виде обычного текста в файл (пригодится в поиске ключевых слов по TF_IDF)"
   ]
  },
  {
   "cell_type": "code",
   "execution_count": 18,
   "metadata": {
    "collapsed": true
   },
   "outputs": [],
   "source": [
    "w = codecs.open('restaurants_corpus.txt' , 'w' , 'utf-8-sig')\n",
    "w.write(all_text)\n",
    "w.close()"
   ]
  },
  {
   "cell_type": "markdown",
   "metadata": {},
   "source": [
    "Следующая функция токенизирует текст, убирает пунктуацию, слова на латинице, стоп-слова, цифры"
   ]
  },
  {
   "cell_type": "code",
   "execution_count": null,
   "metadata": {
    "collapsed": true
   },
   "outputs": [],
   "source": [
    "def preprocess(text):\n",
    "    latin = re.compile('[a-zA-Z]+?')\n",
    "    stop = set(stopwords.words('russian'))\n",
    "    tmp = word_tokenize(text)\n",
    "    tokens = []\n",
    "    for i in tmp:\n",
    "        if i.isalnum() and i not in stop and not i.isdigit():\n",
    "            m = re.search(latin, i)\n",
    "            if m == None:\n",
    "                tokens.append(i.lower())\n",
    "    return tokens\n",
    " "
   ]
  },
  {
   "cell_type": "markdown",
   "metadata": {},
   "source": [
    "Предобработка корпуса отзывов о ресторанах"
   ]
  },
  {
   "cell_type": "code",
   "execution_count": 54,
   "metadata": {
    "collapsed": false
   },
   "outputs": [],
   "source": [
    "tokens = preprocess(all_text)"
   ]
  },
  {
   "cell_type": "markdown",
   "metadata": {},
   "source": [
    "Загружаем контрастный корпус  - коллекция новостных статей РИА-новости. Предобработка этого корпуса."
   ]
  },
  {
   "cell_type": "code",
   "execution_count": 106,
   "metadata": {
    "collapsed": true
   },
   "outputs": [],
   "source": [
    "f = open('contrast_corpus.txt' , 'r' , encoding='utf-8-sig')\n",
    "contrast_corpus = f.read()\n",
    "contrast_tokens = preprocess(contrast_corpus)"
   ]
  },
  {
   "cell_type": "markdown",
   "metadata": {},
   "source": [
    "Создаем объект, где хранятся всякие метрики для коллокаций (`bigram_measures`). Также создаем объект, где хранятся все коллокации из ресторанного корпуса (`finder`). В `resto_len` хранится количество всех биграмм ресторанного корпуса"
   ]
  },
  {
   "cell_type": "code",
   "execution_count": 108,
   "metadata": {
    "collapsed": true
   },
   "outputs": [],
   "source": [
    "bigram_measures = BigramAssocMeasures()\n",
    "finder = BigramCollocationFinder.from_words(tokens)\n",
    "resto_len = finder.N"
   ]
  },
  {
   "cell_type": "markdown",
   "metadata": {},
   "source": [
    "То же самое делаем для контрастного корпуса"
   ]
  },
  {
   "cell_type": "code",
   "execution_count": 110,
   "metadata": {
    "collapsed": false
   },
   "outputs": [],
   "source": [
    "finder_contrast = BigramCollocationFinder.from_words(contrast_tokens)\n",
    "contrast_len = finder_contrast.N"
   ]
  },
  {
   "cell_type": "markdown",
   "metadata": {},
   "source": [
    "Для подсчета IDF понадобится список списков всех биграмм двух корпусов. в `finder.ngram_fd` хранятся только уникальные биграммы, поэтому необходимо дублировать эти биграммы столько раз, сколько они встретились в корпусе"
   ]
  },
  {
   "cell_type": "code",
   "execution_count": 127,
   "metadata": {
    "collapsed": false
   },
   "outputs": [],
   "source": [
    "corpus = []\n",
    "tmp = finder.ngram_fd\n",
    "resto = []\n",
    "for w in tmp:\n",
    "    if tmp[w] > 1:\n",
    "        n = 0\n",
    "        while n < tmp[w]:\n",
    "            resto.append(w)\n",
    "            n += 1\n",
    "    else:\n",
    "        resto.append(w)\n",
    "\n",
    "tmp2 = finder_contrast.ngram_fd  \n",
    "contrast = []\n",
    "for w2 in tmp2:\n",
    "    if tmp2[w2] > 1:\n",
    "        n2 = 0\n",
    "        while n2 < tmp2[w2]:\n",
    "            contrast.append(w2)\n",
    "            n2 += 1\n",
    "    else:\n",
    "        contrast.append(w2)\n",
    "\n",
    "corpus.append(resto)\n",
    "corpus.append(contrast)"
   ]
  },
  {
   "cell_type": "markdown",
   "metadata": {},
   "source": [
    "Далее, будем смотреть только на биграммы, которые всретились в корпусах более 10 раз. Посмотрим, какие биграммы выделяются в ресторанном корпусе по разным метрикам"
   ]
  },
  {
   "cell_type": "code",
   "execution_count": 114,
   "metadata": {
    "collapsed": false
   },
   "outputs": [
    {
     "data": {
      "text/plain": [
       "[('всяких', 'похвал'),\n",
       " ('молодым', 'человеком'),\n",
       " ('выше', 'всяких'),\n",
       " ('первом', 'этаже'),\n",
       " ('второй', 'этаж'),\n",
       " ('что', 'касается'),\n",
       " ('высшем', 'уровне'),\n",
       " ('живая', 'музыка'),\n",
       " ('молодой', 'человек'),\n",
       " ('самое', 'главное'),\n",
       " ('приятно', 'удивлены'),\n",
       " ('обязательно', 'придем'),\n",
       " ('данное', 'заведение'),\n",
       " ('день', 'рождения'),\n",
       " ('могу', 'сказать'),\n",
       " ('добрый', 'день'),\n",
       " ('отдельное', 'спасибо'),\n",
       " ('хочу', 'отметить'),\n",
       " ('большой', 'выбор'),\n",
       " ('вкусная', 'еда'),\n",
       " ('огромное', 'спасибо'),\n",
       " ('долго', 'ждать'),\n",
       " ('в', 'общем'),\n",
       " ('хочу', 'сказать'),\n",
       " ('порции', 'большие'),\n",
       " ('в', 'целом'),\n",
       " ('уютное', 'место'),\n",
       " ('еда', 'вкусная'),\n",
       " ('остались', 'довольны'),\n",
       " ('большие', 'порции')]"
      ]
     },
     "execution_count": 114,
     "metadata": {},
     "output_type": "execute_result"
    }
   ],
   "source": [
    "finder.apply_freq_filter(10)\n",
    "finder.nbest(bigram_measures.pmi, 30) "
   ]
  },
  {
   "cell_type": "code",
   "execution_count": 115,
   "metadata": {
    "collapsed": false
   },
   "outputs": [
    {
     "data": {
      "text/plain": [
       "[('всяких', 'похвал'),\n",
       " ('молодым', 'человеком'),\n",
       " ('что', 'касается'),\n",
       " ('выше', 'всяких'),\n",
       " ('первом', 'этаже'),\n",
       " ('второй', 'этаж'),\n",
       " ('день', 'рождения'),\n",
       " ('молодой', 'человек'),\n",
       " ('живая', 'музыка'),\n",
       " ('могу', 'сказать'),\n",
       " ('высшем', 'уровне'),\n",
       " ('в', 'общем'),\n",
       " ('отдельное', 'спасибо'),\n",
       " ('приятно', 'удивлены'),\n",
       " ('данное', 'заведение'),\n",
       " ('обязательно', 'придем'),\n",
       " ('самое', 'главное'),\n",
       " ('добрый', 'день'),\n",
       " ('в', 'целом'),\n",
       " ('огромное', 'спасибо'),\n",
       " ('большой', 'выбор'),\n",
       " ('вкусная', 'еда'),\n",
       " ('хочу', 'отметить'),\n",
       " ('долго', 'ждать'),\n",
       " ('остались', 'довольны'),\n",
       " ('хочу', 'сказать'),\n",
       " ('еда', 'вкусная'),\n",
       " ('порции', 'большие'),\n",
       " ('большое', 'спасибо'),\n",
       " ('уютное', 'место')]"
      ]
     },
     "execution_count": 115,
     "metadata": {},
     "output_type": "execute_result"
    }
   ],
   "source": [
    "finder.nbest(bigram_measures.chi_sq, 30)"
   ]
  },
  {
   "cell_type": "code",
   "execution_count": 116,
   "metadata": {
    "collapsed": false
   },
   "outputs": [
    {
     "data": {
      "text/plain": [
       "[('в', 'общем'),\n",
       " ('день', 'рождения'),\n",
       " ('могу', 'сказать'),\n",
       " ('молодой', 'человек'),\n",
       " ('в', 'целом'),\n",
       " ('отдельное', 'спасибо'),\n",
       " ('что', 'касается'),\n",
       " ('живая', 'музыка'),\n",
       " ('всяких', 'похвал'),\n",
       " ('молодым', 'человеком'),\n",
       " ('очень', 'довольны'),\n",
       " ('огромное', 'спасибо'),\n",
       " ('очень', 'вкусно'),\n",
       " ('очень', 'понравилось'),\n",
       " ('добрый', 'день'),\n",
       " ('данное', 'заведение'),\n",
       " ('выше', 'всяких'),\n",
       " ('остались', 'очень'),\n",
       " ('большой', 'выбор'),\n",
       " ('второй', 'этаж'),\n",
       " ('первом', 'этаже'),\n",
       " ('приятно', 'удивлены'),\n",
       " ('вкусная', 'еда'),\n",
       " ('высшем', 'уровне'),\n",
       " ('обязательно', 'придем'),\n",
       " ('остались', 'довольны'),\n",
       " ('это', 'место'),\n",
       " ('долго', 'ждать'),\n",
       " ('очень', 'понравился'),\n",
       " ('самое', 'главное')]"
      ]
     },
     "execution_count": 116,
     "metadata": {},
     "output_type": "execute_result"
    }
   ],
   "source": [
    "finder.nbest(bigram_measures.likelihood_ratio, 30)"
   ]
  },
  {
   "cell_type": "markdown",
   "metadata": {},
   "source": [
    "Применяем тот же фильтр и для контрастного корпуса."
   ]
  },
  {
   "cell_type": "code",
   "execution_count": 117,
   "metadata": {
    "collapsed": false
   },
   "outputs": [
    {
     "data": {
      "text/plain": [
       "[('торгуемых', 'внебиржевой'),\n",
       " ('ла', 'скала'),\n",
       " ('непорочного', 'зачатия'),\n",
       " ('американскую', 'легкую'),\n",
       " ('ролан', 'гаррос'),\n",
       " ('мишель', 'бачелет'),\n",
       " ('аналогичным', 'периодом'),\n",
       " ('сточных', 'вод'),\n",
       " ('нури', 'топбаша'),\n",
       " ('османа', 'нури'),\n",
       " ('подземные', 'толчки'),\n",
       " ('континентальной', 'хоккейной'),\n",
       " ('промышленных', 'корпораций'),\n",
       " ('фондовых', 'дилеров'),\n",
       " ('котировок', 'обыкновенных'),\n",
       " ('крестный', 'ход'),\n",
       " ('поклонной', 'горе'),\n",
       " ('божественную', 'литургию'),\n",
       " ('курительных', 'смесей'),\n",
       " ('крылья', 'советов'),\n",
       " ('католических', 'епископов'),\n",
       " ('фьючерсов', 'американскую'),\n",
       " ('великом', 'новгороде'),\n",
       " ('саида', 'нурси'),\n",
       " ('первичных', 'заявок'),\n",
       " ('крепость', 'мусульманина'),\n",
       " ('северного', 'кавказа'),\n",
       " ('фондовые', 'индексы'),\n",
       " ('бюджетного', 'дефицита'),\n",
       " ('массовых', 'коммуникаций')]"
      ]
     },
     "execution_count": 117,
     "metadata": {},
     "output_type": "execute_result"
    }
   ],
   "source": [
    "finder_contrast.apply_freq_filter(10)\n",
    "finder_contrast.nbest(bigram_measures.pmi, 30)"
   ]
  },
  {
   "cell_type": "markdown",
   "metadata": {},
   "source": [
    "В `bigrams_resto` хранится список уникальных биграммов, встретившихся в ресторанном корпусе более 10 раз + их частотность"
   ]
  },
  {
   "cell_type": "code",
   "execution_count": 118,
   "metadata": {
    "collapsed": false
   },
   "outputs": [],
   "source": [
    "bigrams_resto = finder.ngram_fd"
   ]
  },
  {
   "cell_type": "markdown",
   "metadata": {},
   "source": [
    "В `bigrams_contrast` хранится список уникальных биграммов, встретившихся в контрастном корпусе более 10 раз + их частотность"
   ]
  },
  {
   "cell_type": "code",
   "execution_count": 119,
   "metadata": {
    "collapsed": true
   },
   "outputs": [],
   "source": [
    "bigrams_contrast = finder_contrast.ngram_fd"
   ]
  },
  {
   "cell_type": "markdown",
   "metadata": {},
   "source": [
    "Подсчитаем TF-IDF для биграмм ресторанного корпуса"
   ]
  },
  {
   "cell_type": "code",
   "execution_count": 131,
   "metadata": {
    "collapsed": false
   },
   "outputs": [],
   "source": [
    "def compute_tf(fd, textlen):\n",
    "    res = {}\n",
    "    for i in fd:\n",
    "        res[i] = fd[i]/textlen\n",
    "    return res\n",
    "\n",
    "def compute_idf(ngram, corpus):\n",
    "    return math.log10(len(corpus)/sum([1.0 for text in corpus if ngram in text]))\n",
    "\n",
    "tf_resto = compute_tf(bigrams_resto, resto_len)\n",
    "\n",
    "tf_idf_resto = {}\n",
    "for i in tf_resto:\n",
    "    tf_idf_value = tf_resto[i] * compute_idf(i, corpus)\n",
    "    if tf_idf_value not in tf_idf_resto.keys():\n",
    "        x = [i]\n",
    "        tf_idf_resto[tf_idf_value] = x\n",
    "    else:\n",
    "        tf_idf_resto[tf_idf_value].append(i)"
   ]
  },
  {
   "cell_type": "code",
   "execution_count": 134,
   "metadata": {
    "collapsed": false
   },
   "outputs": [
    {
     "name": "stdout",
     "output_type": "stream",
     "text": [
      "score: 0.0005241221135331092\n",
      "('в', 'общем')\n",
      "---------------------------\n",
      "score: 0.000422975740746018\n",
      "('очень', 'вкусно')\n",
      "---------------------------\n",
      "score: 0.0004137806159471915\n",
      "('очень', 'понравилось')\n",
      "---------------------------\n",
      "score: 0.0003310244927577532\n",
      "('очень', 'довольны')\n",
      "---------------------------\n",
      "score: 0.00030343911836127376\n",
      "('остались', 'очень')\n",
      "('могу', 'сказать')\n",
      "---------------------------\n",
      "score: 0.00024826836956831486\n",
      "('это', 'место')\n",
      "---------------------------\n",
      "score: 0.0002390732447694884\n",
      "('молодой', 'человек')\n",
      "('очень', 'понравился')\n",
      "---------------------------\n",
      "score: 0.00022987811997066191\n",
      "('отдельное', 'спасибо')\n",
      "---------------------------\n",
      "score: 0.00019309762077535602\n",
      "('огромное', 'спасибо')\n",
      "('очень', 'вкусные')\n",
      "---------------------------\n",
      "score: 0.0001655122463788766\n",
      "('это', 'заведение')\n",
      "('нам', 'очень')\n",
      "('очень', 'долго')\n",
      "('живая', 'музыка')\n",
      "---------------------------\n",
      "score: 0.00015631712158005012\n",
      "('очень', 'приятно')\n",
      "('очень', 'быстро')\n",
      "---------------------------\n",
      "score: 0.00014712199678122362\n",
      "('все', 'очень')\n",
      "('вкусная', 'еда')\n",
      "('интерьер', 'очень')\n",
      "('остались', 'довольны')\n",
      "('большой', 'выбор')\n",
      "---------------------------\n",
      "score: 0.00013792687198239714\n",
      "('добрый', 'день')\n",
      "('достаточно', 'быстро')\n",
      "---------------------------\n",
      "score: 0.00012873174718357067\n",
      "('понравился', 'интерьер')\n",
      "('большое', 'спасибо')\n",
      "('очень', 'хорошее')\n",
      "('долго', 'ждать')\n",
      "('очень', 'уютно')\n",
      "---------------------------\n",
      "score: 0.0001195366223847442\n",
      "('нам', 'принесли')\n",
      "('данное', 'заведение')\n",
      "('в', 'ресторане')\n",
      "('спасибо', 'огромное')\n",
      "('очень', 'нравится')\n",
      "---------------------------\n",
      "score: 0.00011034149758591772\n",
      "('обязательно', 'придем')\n",
      "('хочу', 'сказать')\n",
      "('еда', 'вкусная')\n",
      "('всё', 'очень')\n",
      "('приятно', 'удивлены')\n",
      "---------------------------\n",
      "score: 0.00010114637278709125\n",
      "('меню', 'очень')\n",
      "('порции', 'большие')\n",
      "('молодым', 'человеком')\n",
      "('отмечали', 'день')\n",
      "('хочу', 'отметить')\n",
      "('очень', 'вкусная')\n",
      "('очень', 'вкусный')\n",
      "('всяких', 'похвал')\n",
      "---------------------------\n",
      "score: 9.195124798826477e-05\n",
      "('хорошее', 'место')\n",
      "('большие', 'порции')\n",
      "('уютное', 'место')\n",
      "('первом', 'этаже')\n",
      "('второй', 'этаж')\n",
      "('самое', 'главное')\n",
      "('спасибо', 'персоналу')\n",
      "('ждали', 'минут')\n",
      "('очень', 'приятное')\n",
      "('высшем', 'уровне')\n",
      "('официанты', 'очень')\n",
      "('выше', 'всяких')\n",
      "---------------------------\n",
      "score: 0.0\n",
      "('в', 'целом')\n",
      "('в', 'итоге')\n",
      "('день', 'рождения')\n",
      "('что', 'касается')\n",
      "---------------------------\n"
     ]
    }
   ],
   "source": [
    "for result in sorted(tf_idf_resto, reverse=True):\n",
    "    print ('score: ' + str(result))\n",
    "    for i in tf_idf_resto[result]:\n",
    "        print (i)\n",
    "    print('---------------------------')"
   ]
  },
  {
   "cell_type": "code",
   "execution_count": 52,
   "metadata": {
    "collapsed": false
   },
   "outputs": [
    {
     "data": {
      "text/plain": [
       "[('le', 'glamure', 'хрустальный'),\n",
       " ('mon', 'petit', 'cafe'),\n",
       " ('sokos', 'hotel', 'vasilievsky'),\n",
       " ('антонина', 'разбирается', 'предсталенной'),\n",
       " ('ассорти', 'капусту', 'тушенную'),\n",
       " ('бадене', 'живём', 'озерках'),\n",
       " ('базар', 'перед', 'уходом'),\n",
       " ('беду', 'решаю', 'отвести'),\n",
       " ('бекон', 'хрустящем', 'тосте'),\n",
       " ('беседки', 'веселые', 'фигурки'),\n",
       " ('бесплатной', 'воды', 'бокалам'),\n",
       " ('бешеную', 'популярность', 'владельцы'),\n",
       " ('быстрого', 'ненавязчивого', 'доброжелательного'),\n",
       " ('вернее', 'месторасполажения', 'приличных'),\n",
       " ('вес', 'картинках', 'речи'),\n",
       " ('веселую', 'программу', 'аниматоры'),\n",
       " ('видны', 'китайские', 'аттрибуты'),\n",
       " ('включала', 'грецкие', 'орехи'),\n",
       " ('воздушные', 'шары', 'требуются'),\n",
       " ('возникла', 'картина', 'воспоминаний'),\n",
       " ('восточному', 'инжирным', 'вареньем'),\n",
       " ('встречаются', 'зазвездившиеся', 'админы'),\n",
       " ('вторую', 'смену', 'обидел'),\n",
       " ('выполнения', 'церемонии', 'чаяналивания'),\n",
       " ('выступали', 'egeiro', 'project'),\n",
       " ('высшее', 'наслаждение', 'пробуйте'),\n",
       " ('выходила', 'дубовой', 'комнаты'),\n",
       " ('выходящие', 'некрасова', 'полупрозрачной'),\n",
       " ('говяжей', 'вырезки', '290р'),\n",
       " ('голове', 'возникает', 'мыслей')]"
      ]
     },
     "execution_count": 52,
     "metadata": {},
     "output_type": "execute_result"
    }
   ],
   "source": [
    "trigram_measures = TrigramAssocMeasures()\n",
    "finder1 = TrigramCollocationFinder.from_words(tokens)\n",
    "finder1.apply_freq_filter(5)\n",
    "finder1 = TrigramCollocationFinder.from_words(tokens, window_size=3)\n",
    "finder1.nbest(trigram_measures.pmi, 30)"
   ]
  },
  {
   "cell_type": "code",
   "execution_count": 50,
   "metadata": {
    "collapsed": false
   },
   "outputs": [
    {
     "data": {
      "text/plain": [
       "[('le', 'glamure', 'хрустальный'),\n",
       " ('mon', 'petit', 'cafe'),\n",
       " ('sokos', 'hotel', 'vasilievsky'),\n",
       " ('антонина', 'разбирается', 'предсталенной'),\n",
       " ('ассорти', 'капусту', 'тушенную'),\n",
       " ('бадене', 'живём', 'озерках'),\n",
       " ('базар', 'перед', 'уходом'),\n",
       " ('беду', 'решаю', 'отвести'),\n",
       " ('бекон', 'хрустящем', 'тосте'),\n",
       " ('беседки', 'веселые', 'фигурки'),\n",
       " ('бесплатной', 'воды', 'бокалам'),\n",
       " ('бешеную', 'популярность', 'владельцы'),\n",
       " ('быстрого', 'ненавязчивого', 'доброжелательного'),\n",
       " ('вернее', 'месторасполажения', 'приличных'),\n",
       " ('вес', 'картинках', 'речи'),\n",
       " ('веселую', 'программу', 'аниматоры'),\n",
       " ('видны', 'китайские', 'аттрибуты'),\n",
       " ('включала', 'грецкие', 'орехи'),\n",
       " ('воздушные', 'шары', 'требуются'),\n",
       " ('возникла', 'картина', 'воспоминаний'),\n",
       " ('восточному', 'инжирным', 'вареньем'),\n",
       " ('встречаются', 'зазвездившиеся', 'админы'),\n",
       " ('вторую', 'смену', 'обидел'),\n",
       " ('выполнения', 'церемонии', 'чаяналивания'),\n",
       " ('выступали', 'egeiro', 'project'),\n",
       " ('высшее', 'наслаждение', 'пробуйте'),\n",
       " ('выходила', 'дубовой', 'комнаты'),\n",
       " ('выходящие', 'некрасова', 'полупрозрачной'),\n",
       " ('говяжей', 'вырезки', '290р'),\n",
       " ('голове', 'возникает', 'мыслей')]"
      ]
     },
     "execution_count": 50,
     "metadata": {},
     "output_type": "execute_result"
    }
   ],
   "source": [
    "finder1.nbest(trigram_measures.chi_sq, 30)"
   ]
  },
  {
   "cell_type": "code",
   "execution_count": 53,
   "metadata": {
    "collapsed": false
   },
   "outputs": [
    {
     "data": {
      "text/plain": [
       "[('остались', 'очень', 'довольны'),\n",
       " ('в', 'общем', 'целом'),\n",
       " ('в', 'общем', 'остались'),\n",
       " ('дорого', 'в', 'общем'),\n",
       " ('в', 'общем', 'прекрасно'),\n",
       " ('в', 'общем', 'придраться'),\n",
       " ('в', 'общем', 'вечер'),\n",
       " ('бесплатная', 'в', 'общем'),\n",
       " ('в', 'общем', 'зайдём'),\n",
       " ('в', 'общем', 'оплатили'),\n",
       " ('в', 'общем', 'порекомендую'),\n",
       " ('ведущий', 'в', 'общем'),\n",
       " ('заметна', 'в', 'общем'),\n",
       " ('заявлен', 'в', 'общем'),\n",
       " ('комки', 'в', 'общем'),\n",
       " ('лезло', 'в', 'общем'),\n",
       " ('лучшем', 'в', 'общем'),\n",
       " ('одних', 'в', 'общем'),\n",
       " ('поднебесной', 'в', 'общем'),\n",
       " ('прочерк', 'в', 'общем'),\n",
       " ('развились', 'в', 'общем'),\n",
       " ('телефончик', 'в', 'общем'),\n",
       " ('в', 'общем', 'это'),\n",
       " ('в', 'общем', 'впечатления'),\n",
       " ('вкусный', 'в', 'общем'),\n",
       " ('кальян', 'в', 'общем'),\n",
       " ('голос', 'в', 'общем'),\n",
       " ('ожидании', 'в', 'общем'),\n",
       " ('фамилии', 'в', 'общем'),\n",
       " ('в', 'общем', 'очень')]"
      ]
     },
     "execution_count": 53,
     "metadata": {},
     "output_type": "execute_result"
    }
   ],
   "source": [
    "finder1.nbest(trigram_measures.likelihood_ratio, 30)"
   ]
  }
 ],
 "metadata": {
  "kernelspec": {
   "display_name": "Python 3",
   "language": "python",
   "name": "python3"
  },
  "language_info": {
   "codemirror_mode": {
    "name": "ipython",
    "version": 3
   },
   "file_extension": ".py",
   "mimetype": "text/x-python",
   "name": "python",
   "nbconvert_exporter": "python",
   "pygments_lexer": "ipython3",
   "version": "3.6.0"
  }
 },
 "nbformat": 4,
 "nbformat_minor": 2
}
